{
 "cells": [
  {
   "cell_type": "code",
   "execution_count": 1,
   "metadata": {},
   "outputs": [],
   "source": [
    "import numpy as np\n",
    "from struct import unpack\n",
    "import matplotlib.pyplot as plt\n",
    "from PIL import Image\n",
    "from collections import Counter\n",
    "import math"
   ]
  },
  {
   "cell_type": "code",
   "execution_count": 2,
   "metadata": {},
   "outputs": [],
   "source": [
    "# 配置文件\n",
    "config = {\n",
    "    # 训练集文件\n",
    "    'train_images_idx3_ubyte_file_path': './MNIST/raw/train-images-idx3-ubyte',\n",
    "    # 训练集标签文件\n",
    "    'train_labels_idx1_ubyte_file_path': './MNIST/raw/train-labels-idx1-ubyte',\n",
    "\n",
    "    # 测试集文件\n",
    "    'test_images_idx3_ubyte_file_path': './MNIST/raw/t10k-images-idx3-ubyte',\n",
    "    # 测试集标签文件\n",
    "    'test_labels_idx1_ubyte_file_path': './MNIST/raw/t10k-labels-idx1-ubyte',\n",
    "\n",
    "    # 特征提取阙值\n",
    "    'binarization_limit_value': 0.14,\n",
    "    # 特征提取后的边长\n",
    "    'side_length': 14\n",
    "}\n"
   ]
  },
  {
   "cell_type": "code",
   "execution_count": 5,
   "metadata": {},
   "outputs": [],
   "source": [
    "def decode_idx3_ubyte(path):\n",
    "    '''\n",
    "    解析idx3-ubyte文件，即解析MNIST图像文件\n",
    "    '''\n",
    "\n",
    "    '''\n",
    "    也可不解压，直接打开.gz文件。path是.gz文件的路径\n",
    "    import gzip\n",
    "    with gzip.open(path, 'rb') as f:\n",
    "    '''\n",
    "    print('loading %s' % path)\n",
    "    with open(path, 'rb') as f:\n",
    "        # 前16位为附加数据，每4位为一个整数，分别为幻数，图片数量，每张图片像素行数，列数。\n",
    "        magic, num, rows, cols = unpack('>4I', f.read(16))\n",
    "        print('magic:%d num:%d rows:%d cols:%d' % (magic, num, rows, cols))\n",
    "        mnistImage = np.fromfile(f, dtype=np.uint8).reshape(num, rows, cols)\n",
    "    print('done')\n",
    "    return mnistImage\n",
    "\n",
    "\n",
    "def decode_idx1_ubyte(path):\n",
    "    '''\n",
    "    解析idx1-ubyte文件，即解析MNIST标签文件\n",
    "    '''\n",
    "    print('loading %s' % path)\n",
    "    with open(path, 'rb') as f:\n",
    "        # 前8位为附加数据，每4位为一个整数，分别为幻数，标签数量。\n",
    "        magic, num = unpack('>2I', f.read(8))\n",
    "        print('magic:%d num:%d' % (magic, num))\n",
    "        mnistLabel = np.fromfile(f, dtype=np.uint8)\n",
    "    print('done')\n",
    "    return mnistLabel\n",
    "\n",
    "\n",
    "def normalizeImage(image):\n",
    "    '''\n",
    "    将图像的像素值正规化为0.0 ~ 1.0\n",
    "    '''\n",
    "    res = image.astype(np.float32) / 255.0\n",
    "    print(res.shape)\n",
    "    return res\n",
    "\n",
    "\n",
    "def load_train_images(path=config['train_images_idx3_ubyte_file_path']):\n",
    "    return normalizeImage(decode_idx3_ubyte(path))\n",
    "\n",
    "\n",
    "def load_train_labels(path=config['train_labels_idx1_ubyte_file_path']):\n",
    "    return decode_idx1_ubyte(path)\n",
    "\n",
    "\n",
    "def load_test_images(path=config['test_images_idx3_ubyte_file_path']):\n",
    "    return normalizeImage(decode_idx3_ubyte(path))\n",
    "\n",
    "\n",
    "def load_test_labels(path=config['test_labels_idx1_ubyte_file_path']):\n",
    "    return decode_idx1_ubyte(path)\n",
    "\n",
    "\n",
    "def oneImagesFeatureExtraction(image):\n",
    "    '''\n",
    "    对单张图片进行特征提取\n",
    "    '''\n",
    "    res = np.empty((config['side_length'], config['side_length']))\n",
    "    num = 28//config['side_length']\n",
    "    for i in range(0, config['side_length']):\n",
    "        for j in range(0, config['side_length']):\n",
    "            # tempMean = (image[2*i:2*(i+1),2*j:2*(j+1)] != 0).sum()/(2 * 2)\n",
    "            tempMean = image[num*i:num*(i+1), num*j:num*(j+1)].mean()\n",
    "            if tempMean > config['binarization_limit_value']:\n",
    "                res[i, j] = 1\n",
    "            else:\n",
    "                res[i, j] = 0\n",
    "    return res\n",
    "\n",
    "\n",
    "def featureExtraction(images):\n",
    "    res = np.empty((images.shape[0], config['side_length'],\n",
    "                    config['side_length']), dtype=np.float32)\n",
    "    for i in range(images.shape[0]):\n",
    "        res[i] = oneImagesFeatureExtraction(images[i])\n",
    "    return res\n",
    "\n",
    "\n",
    "def bayesModelTrain(train_x, train_y):\n",
    "    '''\n",
    "    贝叶斯分类器模型训练\n",
    "    '''\n",
    "    # 计算先验概率\n",
    "    totalNum = train_x.shape[0]\n",
    "    classNumDic = Counter(train_y)\n",
    "    prioriP = np.array([classNumDic[i]/totalNum for i in range(10)])\n",
    "\n",
    "    # 计算类条件概率\n",
    "    oldShape = train_x.shape\n",
    "    train_x.resize((oldShape[0], oldShape[1]*oldShape[2]))\n",
    "    posteriorNum = np.empty((10, train_x.shape[1]))\n",
    "    posteriorP = np.empty((10, train_x.shape[1]))\n",
    "    for i in range(10):\n",
    "        posteriorNum[i] = train_x[np.where(train_y == i)].sum(axis=0)\n",
    "        # 拉普拉斯平滑\n",
    "        posteriorP[i] = (posteriorNum[i] + 1) / (classNumDic[i] + 2)\n",
    "    train_x.resize(oldShape)\n",
    "    return prioriP, posteriorP\n",
    "\n",
    "\n",
    "def bayesClassifier(test_x, prioriP, posteriorP):\n",
    "    '''\n",
    "    使用贝叶斯分类器进行分类(极大似然估计)\n",
    "    '''\n",
    "    oldShape = test_x.shape\n",
    "    test_x.resize(oldShape[0]*oldShape[1])\n",
    "    classP = np.empty(10)\n",
    "    for j in range(10):\n",
    "        temp = sum([math.log(1-posteriorP[j][x]) if test_x[x] ==\n",
    "                    0 else math.log(posteriorP[j][x]) for x in range(test_x.shape[0])])\n",
    "        # 很奇怪，在降维成7*7的时候，注释掉下面这一句正确率反而更高\n",
    "        classP[j] = np.array(math.log(prioriP[j]) + temp)\n",
    "        classP[j] = np.array(temp)\n",
    "    test_x.resize(oldShape)\n",
    "    return np.argmax(classP)\n",
    "\n",
    "\n",
    "def modelEvaluation(test_x, test_y, prioriP, posteriorP):\n",
    "    '''\n",
    "    对贝叶斯分类器的模型进行评估\n",
    "    '''\n",
    "    bayesClassifierRes = np.empty(test_x.shape[0])\n",
    "    for i in range(test_x.shape[0]):\n",
    "        bayesClassifierRes[i] = bayesClassifier(test_x[i], prioriP, posteriorP)\n",
    "    return bayesClassifierRes, (bayesClassifierRes == test_y).sum() / test_y.shape[0]\n",
    "\n"
   ]
  },
  {
   "cell_type": "code",
   "execution_count": 6,
   "metadata": {},
   "outputs": [
    {
     "name": "stdout",
     "output_type": "stream",
     "text": [
      "loading MNIST Data\n",
      "loading ./MNIST/raw/train-images-idx3-ubyte\n",
      "magic:2051 num:60000 rows:28 cols:28\n",
      "done\n",
      "(60000, 28, 28)\n",
      "loading ./MNIST/raw/train-labels-idx1-ubyte\n",
      "magic:2049 num:60000\n",
      "done\n",
      "loading ./MNIST/raw/t10k-images-idx3-ubyte\n",
      "magic:2051 num:10000 rows:28 cols:28\n",
      "done\n",
      "(10000, 28, 28)\n",
      "loading ./MNIST/raw/t10k-labels-idx1-ubyte\n",
      "magic:2049 num:10000\n",
      "done\n",
      "loading done\n"
     ]
    }
   ],
   "source": [
    "print('loading MNIST Data')\n",
    "train_images = load_train_images()\n",
    "train_labels = load_train_labels()\n",
    "\n",
    "test_images = load_test_images()\n",
    "test_labels = load_test_labels()\n",
    "print('loading done')"
   ]
  },
  {
   "cell_type": "code",
   "execution_count": 26,
   "metadata": {},
   "outputs": [
    {
     "name": "stdout",
     "output_type": "stream",
     "text": [
      "[5 0 4 1 9]\n"
     ]
    },
    {
     "data": {
      "image/png": "[encoded data removed]",
      "text/plain": [
       "<Figure size 432x288 with 3 Axes>"
      ]
     },
     "metadata": {
      "needs_background": "light"
     },
     "output_type": "display_data"
    }
   ],
   "source": [
    "nowMnistLabel = train_labels[0:5].copy()\n",
    "nowMnistImage = train_images[0:5].copy()\n",
    "print(nowMnistLabel)\n",
    "ax1 = plt.subplot(1,3,1)\n",
    "ax2 = plt.subplot(1,3,2)\n",
    "ax3 = plt.subplot(1,3,3)\n",
    "# ax4 = plt.subplot(2,5,4)\n",
    "# ax5 = plt.subplot(2,5,5)\n",
    "plt.sca(ax1)\n",
    "plt.imshow(nowMnistImage[0], cmap='gray')\n",
    "plt.sca(ax2)\n",
    "plt.imshow(nowMnistImage[1], cmap='gray')\n",
    "plt.sca(ax3)\n",
    "plt.imshow(nowMnistImage[2], cmap='gray')\n",
    "# plt.sca(ax4)\n",
    "# plt.imshow(nowMnistImage[3], cmap='gray')\n",
    "# plt.sca(ax5)\n",
    "# plt.imshow(nowMnistImage[4], cmap='gray')\n",
    "plt.show()"
   ]
  },
  {
   "cell_type": "code",
   "execution_count": 44,
   "metadata": {},
   "outputs": [
    {
     "name": "stdout",
     "output_type": "stream",
     "text": [
      "feature extraction start\n",
      "feature extraction done\n"
     ]
    }
   ],
   "source": [
    "print('feature extraction start')\n",
    "train_images_feature = featureExtraction(train_images)\n",
    "print('feature extraction done')"
   ]
  },
  {
   "cell_type": "code",
   "execution_count": 45,
   "metadata": {},
   "outputs": [
    {
     "name": "stdout",
     "output_type": "stream",
     "text": [
      "[5 0 4]\n"
     ]
    },
    {
     "data": {
      "image/png": "[encoded data removed]",
      "text/plain": [
       "<Figure size 432x288 with 3 Axes>"
      ]
     },
     "metadata": {
      "needs_background": "light"
     },
     "output_type": "display_data"
    }
   ],
   "source": [
    "# nowMnistLabel = train_labels[0].copy()\n",
    "# nowMnistImage = train_images_feature[0].copy()\n",
    "nowMnistLabel = train_labels[:3].copy()\n",
    "nowMnistImage = train_images_feature[:3].copy()\n",
    "print(nowMnistLabel)\n",
    "# plt.imshow(nowMnistImage, cmap='gray')\n",
    "# plt.show()\n",
    "ax1 = plt.subplot(1,3,1)\n",
    "ax2 = plt.subplot(1,3,2)\n",
    "ax3 = plt.subplot(1,3,3)\n",
    "ax1.set_title(\"real:5\\npred:5\")\n",
    "# ax4 = plt.subplot(2,5,4)\n",
    "# ax5 = plt.subplot(2,5,5)\n",
    "plt.sca(ax1)\n",
    "plt.imshow(nowMnistImage[0], cmap='gray')\n",
    "plt.sca(ax2)\n",
    "plt.imshow(nowMnistImage[1], cmap='gray')\n",
    "plt.sca(ax3)\n",
    "plt.imshow(nowMnistImage[2], cmap='gray')\n",
    "# plt.sca(ax4)\n",
    "# plt.imshow(nowMnistImage[3], cmap='gray')\n",
    "# plt.sca(ax5)\n",
    "# plt.imshow(nowMnistImage[4], cmap='gray')\n",
    "plt.show()"
   ]
  },
  {
   "cell_type": "code",
   "execution_count": 46,
   "metadata": {},
   "outputs": [
    {
     "name": "stdout",
     "output_type": "stream",
     "text": [
      "bayes model train start\n",
      "bayes model train done\n",
      "bayes model evaluation start\n",
      "贝叶斯分类器的准确度为83.58 %\n",
      "bayes model evaluation done\n"
     ]
    }
   ],
   "source": [
    "print('bayes model train start')\n",
    "prioriP, posteriorP = bayesModelTrain(train_images_feature, train_labels)\n",
    "print('bayes model train done')\n",
    "# print(prioriP)\n",
    "# print(posteriorP)\n",
    "\n",
    "print('bayes model evaluation start')\n",
    "test_images_feature = featureExtraction(test_images)\n",
    "res, val = modelEvaluation(\n",
    "    test_images_feature, test_labels, prioriP, posteriorP)\n",
    "print('贝叶斯分类器的准确度为%.2f %%' % (val*100))\n",
    "print('bayes model evaluation done')\n",
    "    "
   ]
  }
 ],
 "metadata": {
  "kernelspec": {
   "display_name": "py_gpu",
   "language": "python",
   "name": "py_gpu"
  },
  "language_info": {
   "codemirror_mode": {
    "name": "ipython",
    "version": 3
   },
   "file_extension": ".py",
   "mimetype": "text/x-python",
   "name": "python",
   "nbconvert_exporter": "python",
   "pygments_lexer": "ipython3",
   "version": "3.6.9"
  }
 },
 "nbformat": 4,
 "nbformat_minor": 2
}
